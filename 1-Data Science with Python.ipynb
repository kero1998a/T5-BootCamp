{
 "cells": [
  {
   "cell_type": "markdown",
   "source": [
    "## Data Science with Python"
   ],
   "metadata": {
    "collapsed": false
   },
   "id": "6592cfa89887a2f0"
  },
  {
   "cell_type": "markdown",
   "source": [
    "# Please write your name and a simple explanation before the code\n",
    "* Example \n",
    "\n",
    "  *Abdullah alsobie*\n",
    "  - simple code for print wlcome to T5\n",
    "    \n",
    " ** Do not Write imports Libraries **\n",
    " \n",
    " ** Just Write One Code in One  Cell **"
   ],
   "metadata": {
    "collapsed": false
   },
   "id": "335e697bfe5275b3"
  },
  {
   "cell_type": "code",
   "execution_count": 1,
   "outputs": [
    {
     "name": "stdout",
     "output_type": "stream",
     "text": [
      "Welcome to T5\n"
     ]
    }
   ],
   "source": [
    "print(\"Welcome to T5\")"
   ],
   "metadata": {
    "collapsed": false,
    "ExecuteTime": {
     "end_time": "2023-10-30T15:58:56.823098900Z",
     "start_time": "2023-10-30T15:58:56.806938700Z"
    }
   },
   "id": "f84c0f134966a095"
  }
 ],
 "metadata": {
  "kernelspec": {
   "display_name": "Python 3",
   "language": "python",
   "name": "python3"
  },
  "language_info": {
   "codemirror_mode": {
    "name": "ipython",
    "version": 2
   },
   "file_extension": ".py",
   "mimetype": "text/x-python",
   "name": "python",
   "nbconvert_exporter": "python",
   "pygments_lexer": "ipython2",
   "version": "2.7.6"
  }
 },
 "nbformat": 4,
 "nbformat_minor": 5
}
