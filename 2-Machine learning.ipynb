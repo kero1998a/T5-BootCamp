{
 "cells": [
  {
   "cell_type": "markdown",
   "source": [],
   "metadata": {
    "collapsed": false
   },
   "id": "720b9816155ad607"
  },
  {
   "cell_type": "markdown",
   "source": [
    "## Machine learning"
   ],
   "metadata": {
    "collapsed": false
   },
   "id": "7fc3d84ece722f1a"
  },
  {
   "cell_type": "markdown",
   "source": [
    "# Please write your name and a simple explanation before the code\n",
    "* Example \n",
    "\n",
    "  *Abdullah alsobie*\n",
    "  - simple code for print wlcome to T5\n",
    "    \n",
    " ** Do not Write imports Libraries **\n",
    " \n",
    " ** Just Write One Code in One  Cell **"
   ],
   "metadata": {
    "collapsed": false
   },
   "id": "8fec3ed804462aca"
  },
  {
   "cell_type": "code",
   "execution_count": 2,
   "outputs": [
    {
     "name": "stdout",
     "output_type": "stream",
     "text": [
      "Welcome to T5\n"
     ]
    }
   ],
   "source": [
    "print(\"Welcome to T5\")"
   ],
   "metadata": {
    "collapsed": false,
    "ExecuteTime": {
     "end_time": "2023-10-30T16:05:40.434315800Z",
     "start_time": "2023-10-30T16:05:40.408882100Z"
    }
   },
   "id": "788ae95fe84d1a51"
  },
  {
   "cell_type": "code",
   "execution_count": null,
   "outputs": [],
   "source": [],
   "metadata": {
    "collapsed": false
   },
   "id": "2d7865a9f5ab8b76"
  }
 ],
 "metadata": {
  "kernelspec": {
   "display_name": "Python 3",
   "language": "python",
   "name": "python3"
  },
  "language_info": {
   "codemirror_mode": {
    "name": "ipython",
    "version": 2
   },
   "file_extension": ".py",
   "mimetype": "text/x-python",
   "name": "python",
   "nbconvert_exporter": "python",
   "pygments_lexer": "ipython2",
   "version": "2.7.6"
  }
 },
 "nbformat": 4,
 "nbformat_minor": 5
}
