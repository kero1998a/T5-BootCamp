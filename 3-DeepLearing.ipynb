{
 "cells": [
  {
   "cell_type": "markdown",
   "source": [
    "## DeepLearing"
   ],
   "metadata": {
    "collapsed": false
   },
   "id": "e637995d4bd2d133"
  },
  {
   "cell_type": "markdown",
   "source": [
    "# Please write your name and a simple explanation before the code\n",
    "* Example \n",
    "\n",
    "  *Abdullah alsobie*\n",
    "  - simple code for print wlcome to T5\n",
    "    \n",
    " ** Do not Write imports Libraries **\n",
    " \n",
    " ** Just Write One Code in One  Cell **"
   ],
   "metadata": {
    "collapsed": false
   },
   "id": "5cad5490722c7a3f"
  },
  {
   "cell_type": "code",
   "execution_count": 3,
   "outputs": [
    {
     "name": "stdout",
     "output_type": "stream",
     "text": [
      "Welcome to T5\n"
     ]
    }
   ],
   "source": [
    "print(\"Welcome to T5\")"
   ],
   "metadata": {
    "collapsed": false,
    "ExecuteTime": {
     "end_time": "2023-10-30T16:11:02.318457600Z",
     "start_time": "2023-10-30T16:11:02.301278100Z"
    }
   },
   "id": "1dce3d3f14bc9da2"
  },
  {
   "cell_type": "code",
   "execution_count": null,
   "outputs": [],
   "source": [],
   "metadata": {
    "collapsed": false
   },
   "id": "51e660e8117225d7"
  }
 ],
 "metadata": {
  "kernelspec": {
   "display_name": "Python 3",
   "language": "python",
   "name": "python3"
  },
  "language_info": {
   "codemirror_mode": {
    "name": "ipython",
    "version": 2
   },
   "file_extension": ".py",
   "mimetype": "text/x-python",
   "name": "python",
   "nbconvert_exporter": "python",
   "pygments_lexer": "ipython2",
   "version": "2.7.6"
  }
 },
 "nbformat": 4,
 "nbformat_minor": 5
}
