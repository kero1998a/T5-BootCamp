{
 "cells": [
  {
   "cell_type": "markdown",
   "source": [
    "## NLP"
   ],
   "metadata": {
    "collapsed": false
   },
   "id": "b534532c4638818b"
  },
  {
   "cell_type": "markdown",
   "source": [
    "# Please write your name and a simple explanation before the code\n",
    "* Example \n",
    "\n",
    "  *Abdullah alsobie*\n",
    "  - simple code for print wlcome to T5\n",
    "    \n",
    " ** Do not Write imports Libraries **\n",
    " \n",
    " ** Just Write One Code in One  Cell **"
   ],
   "metadata": {
    "collapsed": false
   },
   "id": "b249e723285454d0"
  },
  {
   "cell_type": "code",
   "execution_count": 2,
   "outputs": [
    {
     "name": "stdout",
     "output_type": "stream",
     "text": [
      "Welcome to T5\n"
     ]
    }
   ],
   "source": [
    "print(\"Welcome to T5\")"
   ],
   "metadata": {
    "collapsed": false,
    "ExecuteTime": {
     "end_time": "2023-10-30T16:16:54.928341700Z",
     "start_time": "2023-10-30T16:16:54.918184Z"
    }
   },
   "id": "566bbc085b09029"
  },
  {
   "cell_type": "code",
   "execution_count": null,
   "outputs": [],
   "source": [],
   "metadata": {
    "collapsed": false
   },
   "id": "50098f5237c2fcef"
  }
 ],
 "metadata": {
  "kernelspec": {
   "display_name": "Python 3",
   "language": "python",
   "name": "python3"
  },
  "language_info": {
   "codemirror_mode": {
    "name": "ipython",
    "version": 2
   },
   "file_extension": ".py",
   "mimetype": "text/x-python",
   "name": "python",
   "nbconvert_exporter": "python",
   "pygments_lexer": "ipython2",
   "version": "2.7.6"
  }
 },
 "nbformat": 4,
 "nbformat_minor": 5
}
